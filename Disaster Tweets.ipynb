{
 "cells": [
  {
   "cell_type": "markdown",
   "metadata": {},
   "source": [
    "# Classification de textes à l'aide de pyspark ML"
   ]
  },
  {
   "cell_type": "markdown",
   "metadata": {},
   "source": [
    "## Introduction\n",
    "<p>\n",
    "<div style=\"text-align: justify\">\n",
    "Le traitement du langage naturel NLP est l'un des processus importants pour les équipes de science des données à travers \n",
    "le monde. Avec des données en constante augmentation, la plupart des organisations ont déjà migré vers \n",
    "des plateformes de Big Data comme Apache Hadoop et des offres cloud comme AWS, Azure et GCP. Ces plates-formes sont plus que \n",
    "capables de gérer le Big Data, ce qui permet aux organisations d'effectuer des analyses à grande échelle pour des données non \n",
    "structurées telles que la catégorisation de texte. Mais en matière d'apprentissage automatique, il existe toujours un fossé \n",
    "entre les systèmes de mégadonnées et les outils d'apprentissage automatique.<br>\n",
    "Les bibliothèques python d'apprentissage automatique populaires telles que scikit-learn et \n",
    "Gensim sont hautement optimisées pour fonctionner sur des machines à nœud unique et ne sont pas conçues \n",
    "pour les environnements distribués. <b class=\"keywords\">Apache Spark MLlib</b> est l'un des nombreux outils qui aident à combler cette lacune en offrant\n",
    "la plupart des modèles d'apprentissage automatique comme la régression linéaire, la régression logistique, SVM, Random Forest, \n",
    "K-means, SVM et bien d'autres pour effectuer les tâches d'apprentissage automatique les plus courantes.<br>\n",
    "Le Traitement Automatique du Langage naturel (TAL) ou Natural Language Processing (NLP) en anglais trouve de nombreuses \n",
    "applications dans la vie de tous les jours:\n",
    " <ul>\n",
    "    <li>Traduction de texte</li>\n",
    "    <li>Correcteur orthographique</li>\n",
    "    <li>Résumé automatique d’un contenu</li>\n",
    "    <li>Synthèse vocale</li>\n",
    "    <li>Analyse d’opinion/sentiment</li>\n",
    "    <li>Prédiction du prochain mot sur smartphone</li>\n",
    "    <li>Extraction des entités nommées depuis un texte</li>\n",
    "    <li>…</li>\n",
    "</ul>\n",
    " </div>\n",
    " </p>"
   ]
  },
  {
   "cell_type": "markdown",
   "metadata": {},
   "source": [
    "## Qu'est-ce que Spark NLP ?\n",
    "<p>\n",
    "<div style=\"text-align: justify\">\n",
    "Spark NLP est une bibliothèque open-source, lancée il y a un peu plus de 4 ans, dans le but de fournir un NLP de pointe à \n",
    "la communauté open-source, offrant des bibliothèques et des API complètes en Python, Java et Scala. Évolué à la suite de la \n",
    "croissance de l'apprentissage en profondeur dans les technologies NLP et de l'optimisation d'Apache Spark, il permet de faire \n",
    "fonctionner les choses d'un ou deux ordres de grandeur plus rapidement sur le même matériel pour les bibliothèques basées sur \n",
    "Spark.\n",
    "</div>\n",
    "</p>\n",
    "<p>\n",
    "<div>\n",
    "De plus, il est construit directement sur Spark ML, ce qui signifie qu'un pipeline Spark NLP est de la même classe qu'une construction de pipeline Spark ML, \n",
    "offrant ainsi une série d'avantages.\n",
    "</div>\n",
    "</p>"
   ]
  },
  {
   "cell_type": "markdown",
   "metadata": {},
   "source": [
    "## Description de problèmatique :\n",
    "<p>\n",
    "<div style=\"text-align: justify\">\n",
    "Twitter est devenu un canal de communication important en cas d’urgence.<br>\n",
    "L’omniprésence des smartphones permet aux gens d’annoncer une urgence qu’ils observent en temps réel. Pour cette raison, \n",
    "de plus en plus d’agences sont intéressées par la surveillance programmatique de Twitter (c’est-à-dire les organisations \n",
    "de secours en cas de catastrophe et les agences de presse).Mais, il n’est pas toujours clair si les mots d’une personne \n",
    "annoncent réellement une catastrophe.<br><br>\n",
    "Dans cette compétition, nous sommes mis au défi de construire un modèle d’apprentissage automatique qui prédit quels Tweets \n",
    "concernent de vraies catastrophes et lesquels ne le sont pas. Nous aurons accès à un ensemble de données de 10 000 tweets \n",
    "classés à la main: <a href='https://www.kaggle.com/c/nlp-getting-started/overview'>Link of Dataset</a>\n",
    "</div>\n",
    "</p>"
   ]
  },
  {
   "cell_type": "markdown",
   "metadata": {},
   "source": [
    "### Qu'est-ce qu'on prédit ?\n",
    "Nous prédisons si un tweet donné concerne une véritable catastrophe ou non. Si oui, prédisez un 1. Si non, prédisez un 0."
   ]
  },
  {
   "cell_type": "markdown",
   "metadata": {},
   "source": [
    "### Columns\n",
    "<p>\n",
    "Les colonnes incluses dans cet ensemble de données sont :\n",
    "<ul>\n",
    "<li><b class=\"keywords\">id:</b> Cette colonne comprend des identifiants pour chaque tweets </li>\n",
    "<li><b class=\"keywords\">keyword:</b> Keyword de ce tweet (peut être vide) </li>\n",
    "<li><b class=\"keywords\">location:</b> Lieu d'où le tweet a été envoyé (peut aussi être vide) </li>\n",
    "<li><b class=\"keywords\">text:</b> Le texte d'un tweet </li>\n",
    "<li><b class=\"keywords\">target:</b> Dans le fichier train.csv uniquement, cela indique si un tweet concerne une véritable \n",
    "catastrophe (1) ou non (0)</li></ul>\n",
    "</p>"
   ]
  },
  {
   "cell_type": "markdown",
   "metadata": {},
   "source": [
    "## Importation des bibliothèques nécessaires"
   ]
  },
  {
   "cell_type": "code",
   "execution_count": 3,
   "metadata": {},
   "outputs": [],
   "source": [
    "import numpy as np \n",
    "import pandas as pd \n",
    "from pyspark.sql import SparkSession\n",
    "from pyspark.ml.feature import CountVectorizer,StringIndexer, RegexTokenizer,StopWordsRemover\n",
    "from pyspark.sql.functions import col,regexp_replace\n",
    "from pyspark.ml.evaluation import MulticlassClassificationEvaluator"
   ]
  },
  {
   "cell_type": "markdown",
   "metadata": {},
   "source": [
    "## Création d'une session spark\n",
    "<p>\n",
    "<div style=\"text-align: justify\">\n",
    "La création d'une session spark est le point d'entrée de Spark ML. C'est l'un des tout premiers objets que nous créons en \n",
    "réalisant un projet Spark ML.  nous créons un SparkSession en utilisant la méthode SparkSession.builder (qui nous donne accès à \n",
    "l'API Builder que nous utilisons pour configurer la session).\n",
    "</div>\n",
    "</p>"
   ]
  },
  {
   "cell_type": "code",
   "execution_count": 4,
   "metadata": {},
   "outputs": [],
   "source": [
    "spark = SparkSession.builder \\\n",
    "    .master(\"local[*]\") \\\n",
    "    .config(\"spark.executor.memory\", \"8g\") \\\n",
    "    .config(\"spark.driver.memory\", \"8g\") \\\n",
    "    .appName(\"NLP\") \\\n",
    "    .getOrCreate()"
   ]
  },
  {
   "cell_type": "code",
   "execution_count": 5,
   "metadata": {},
   "outputs": [
    {
     "data": {
      "text/html": [
       "<style>pre { white-space: pre !important; }</style>"
      ],
      "text/plain": [
       "<IPython.core.display.HTML object>"
      ]
     },
     "metadata": {},
     "output_type": "display_data"
    }
   ],
   "source": [
    "from IPython.core.display import HTML\n",
    "display(HTML(\"<style>pre { white-space: pre !important; }</style>\"))"
   ]
  },
  {
   "cell_type": "markdown",
   "metadata": {},
   "source": [
    "## Importation de Dataset"
   ]
  },
  {
   "cell_type": "code",
   "execution_count": 22,
   "metadata": {
    "_cell_guid": "79c7e3d0-c299-4dcb-8224-4455121ee9b0",
    "_uuid": "d629ff2d2480ee46fbb7e2d37f6b5fab8052498a"
   },
   "outputs": [
    {
     "name": "stdout",
     "output_type": "stream",
     "text": [
      "root\n",
      " |-- id: string (nullable = true)\n",
      " |-- keyword: string (nullable = true)\n",
      " |-- location: string (nullable = true)\n",
      " |-- text: string (nullable = true)\n",
      " |-- target: integer (nullable = true)\n",
      "\n"
     ]
    }
   ],
   "source": [
    "dataset = spark.read.csv('train_data.csv', inferSchema=True, header=True)\n",
    "dataset.printSchema()"
   ]
  },
  {
   "cell_type": "markdown",
   "metadata": {},
   "source": [
    "**Predictor variables:** id, keyword, location, text\n",
    "\n",
    "**Outcome variable:** target"
   ]
  },
  {
   "cell_type": "markdown",
   "metadata": {},
   "source": [
    "Voyons à quoi ressemblent les données:<br>\n",
    "Pandas data frame est meilleur que la fonction Spark DataFrame show(), pour cela nous utiliserons Pandas DataFrame"
   ]
  },
  {
   "cell_type": "code",
   "execution_count": 26,
   "metadata": {},
   "outputs": [
    {
     "data": {
      "text/html": [
       "<div>\n",
       "<style scoped>\n",
       "    .dataframe tbody tr th:only-of-type {\n",
       "        vertical-align: middle;\n",
       "    }\n",
       "\n",
       "    .dataframe tbody tr th {\n",
       "        vertical-align: top;\n",
       "    }\n",
       "\n",
       "    .dataframe thead th {\n",
       "        text-align: right;\n",
       "    }\n",
       "</style>\n",
       "<table border=\"1\" class=\"dataframe\">\n",
       "  <thead>\n",
       "    <tr style=\"text-align: right;\">\n",
       "      <th></th>\n",
       "      <th>id</th>\n",
       "      <th>keyword</th>\n",
       "      <th>location</th>\n",
       "      <th>text</th>\n",
       "      <th>target</th>\n",
       "    </tr>\n",
       "  </thead>\n",
       "  <tbody>\n",
       "    <tr>\n",
       "      <th>0</th>\n",
       "      <td>1</td>\n",
       "      <td>None</td>\n",
       "      <td>None</td>\n",
       "      <td>Our Deeds are the Reason of this #earthquake M...</td>\n",
       "      <td>1</td>\n",
       "    </tr>\n",
       "    <tr>\n",
       "      <th>1</th>\n",
       "      <td>4</td>\n",
       "      <td>None</td>\n",
       "      <td>None</td>\n",
       "      <td>Forest fire near La Ronge Sask. Canada</td>\n",
       "      <td>1</td>\n",
       "    </tr>\n",
       "    <tr>\n",
       "      <th>2</th>\n",
       "      <td>5</td>\n",
       "      <td>None</td>\n",
       "      <td>None</td>\n",
       "      <td>All residents asked to 'shelter in place' are ...</td>\n",
       "      <td>1</td>\n",
       "    </tr>\n",
       "    <tr>\n",
       "      <th>3</th>\n",
       "      <td>6</td>\n",
       "      <td>None</td>\n",
       "      <td>None</td>\n",
       "      <td>13,000 people receive #wildfires evacuation or...</td>\n",
       "      <td>1</td>\n",
       "    </tr>\n",
       "    <tr>\n",
       "      <th>4</th>\n",
       "      <td>7</td>\n",
       "      <td>None</td>\n",
       "      <td>None</td>\n",
       "      <td>Just got sent this photo from Ruby #Alaska as ...</td>\n",
       "      <td>1</td>\n",
       "    </tr>\n",
       "  </tbody>\n",
       "</table>\n",
       "</div>"
      ],
      "text/plain": [
       "  id keyword location                                               text  \\\n",
       "0  1    None     None  Our Deeds are the Reason of this #earthquake M...   \n",
       "1  4    None     None             Forest fire near La Ronge Sask. Canada   \n",
       "2  5    None     None  All residents asked to 'shelter in place' are ...   \n",
       "3  6    None     None  13,000 people receive #wildfires evacuation or...   \n",
       "4  7    None     None  Just got sent this photo from Ruby #Alaska as ...   \n",
       "\n",
       "   target  \n",
       "0       1  \n",
       "1       1  \n",
       "2       1  \n",
       "3       1  \n",
       "4       1  "
      ]
     },
     "execution_count": 26,
     "metadata": {},
     "output_type": "execute_result"
    }
   ],
   "source": [
    "import pandas as pd\n",
    "pd.DataFrame(dataset.take(5), columns=dataset.columns)"
   ]
  },
  {
   "cell_type": "code",
   "execution_count": 27,
   "metadata": {},
   "outputs": [
    {
     "name": "stdout",
     "output_type": "stream",
     "text": [
      "Data Record Count: 8387\n"
     ]
    }
   ],
   "source": [
    "print(\"Data Record Count:\",dataset.count())"
   ]
  },
  {
   "cell_type": "markdown",
   "metadata": {},
   "source": [
    "Visualisation de **'target'** (Outcome column)"
   ]
  },
  {
   "cell_type": "code",
   "execution_count": 28,
   "metadata": {},
   "outputs": [
    {
     "data": {
      "text/plain": [
       "target\n",
       "0.0    4095\n",
       "1.0    3081\n",
       "dtype: int64"
      ]
     },
     "execution_count": 28,
     "metadata": {},
     "output_type": "execute_result"
    }
   ],
   "source": [
    "dataset.toPandas().groupby(['target']).size()"
   ]
  },
  {
   "cell_type": "markdown",
   "metadata": {},
   "source": [
    "Les données sont bien équilibrées."
   ]
  },
  {
   "cell_type": "markdown",
   "metadata": {},
   "source": [
    "# I. Prétraitement des données"
   ]
  },
  {
   "cell_type": "markdown",
   "metadata": {},
   "source": [
    "<p>\n",
    "<div style=\"text-align: justify\">\n",
    "Une étape essentielle dans la fouille des données textuelles est la préparation des données collectées afin\n",
    "qu’elles puissent être efficacement traitées par les algorithmes d’apprentissage machine. Il contient de deux parties\n",
    "La partie de <b class=\"keywords\">nettoyage des donnees</b> qui consiste en un certain nombre de prétraitements qui visent à standardiser et nettoyer \n",
    "le contenu des tweets qui sont archivés :\n",
    "<ul>\n",
    "<li>Suppression des valeurs nulles</li>\n",
    "<li>Suppression des chiffres dans les tweets</li>\n",
    "<li>Séparation des mots du tweet</li>\n",
    "<li>Suppression des mots vides de sens</li>\n",
    "<li>Vectorisation</li>\n",
    "</ul>\n",
    "</div>\n",
    "</p>\n",
    "<p>\n",
    "<div style=\"text-align: justify\">\n",
    "Et la deuxième partie de <b class=\"keywords\">séparation des données en train et validation data.</b>\n",
    "</div>\n",
    "</p>\n",
    "<p>\n",
    "<div style=\"text-align: justify\">\n",
    "Pré-traitement est une étape qui cherche à standardiser du texte afin de rendre son usage plus facile. C'est le processus de \n",
    "conversion des données en quelque chose qu'un ordinateur peut comprendre. \n",
    "</div>\n",
    "</p>"
   ]
  },
  {
   "cell_type": "code",
   "execution_count": 29,
   "metadata": {},
   "outputs": [
    {
     "name": "stdout",
     "output_type": "stream",
     "text": [
      "+---+--------------------+------+\n",
      "| id|                text|target|\n",
      "+---+--------------------+------+\n",
      "|  1|Our Deeds are the...|     1|\n",
      "|  4|Forest fire near ...|     1|\n",
      "|  5|All residents ask...|     1|\n",
      "|  6|13,000 people rec...|     1|\n",
      "|  7|Just got sent thi...|     1|\n",
      "+---+--------------------+------+\n",
      "only showing top 5 rows\n",
      "\n"
     ]
    }
   ],
   "source": [
    "dataset = dataset.select(\"id\",\"text\",\"target\")\n",
    "dataset.show(5)"
   ]
  },
  {
   "cell_type": "markdown",
   "metadata": {},
   "source": [
    "## I.1. Nettoyage des donnees\n",
    "<p>\n",
    "<div style=\"text-align: justify\">\n",
    "Le nettoyage des données est un processus qui vise à identifier et corriger les données altérées, inexactes ou non pertinentes. \n",
    "Cette étape fondamentale du traitement des données améliore la cohérence, fiabilité et valeur des données.\n",
    "</div>\n",
    "</p>"
   ]
  },
  {
   "cell_type": "markdown",
   "metadata": {},
   "source": [
    "### Suppression des valeurs nulles\n",
    "<p>\n",
    "<b class=\"keywords\">drop :</b> est une fonction utilisée pour supprimer des lignes avec des valeurs NULL dans les colonnes de notre DataFrame\n",
    "</p>"
   ]
  },
  {
   "cell_type": "code",
   "execution_count": 30,
   "metadata": {
    "scrolled": true
   },
   "outputs": [
    {
     "name": "stdout",
     "output_type": "stream",
     "text": [
      "Data Record Count: 7176\n"
     ]
    }
   ],
   "source": [
    "dataset = dataset.dropna()\n",
    "print(\"Data Record Count:\",dataset.count())"
   ]
  },
  {
   "cell_type": "markdown",
   "metadata": {},
   "source": [
    "### Suppression des chiffres dans les tweets\n",
    "<p>\n",
    "<div style=\"text-align: justify\">\n",
    "Les textes des tweets contiennent de nombreux chiffres qui nous pouvons les supprimer on utilise la fonction Spark\n",
    "<b class=\"keywords\">regexp_replace</b>, qui permet en général de remplacer une valeur de colonne par une chaîne pour une autre \n",
    "chaîne/sous-chaîne.\n",
    "</div>\n",
    "</p>"
   ]
  },
  {
   "cell_type": "code",
   "execution_count": 31,
   "metadata": {},
   "outputs": [
    {
     "name": "stdout",
     "output_type": "stream",
     "text": [
      "+---+--------------------+------+--------------------+\n",
      "| id|                text|target|            only_str|\n",
      "+---+--------------------+------+--------------------+\n",
      "|  1|Our Deeds are the...|     1|Our Deeds are the...|\n",
      "|  4|Forest fire near ...|     1|Forest fire near ...|\n",
      "|  5|All residents ask...|     1|All residents ask...|\n",
      "|  6|13,000 people rec...|     1|, people receive ...|\n",
      "|  7|Just got sent thi...|     1|Just got sent thi...|\n",
      "+---+--------------------+------+--------------------+\n",
      "only showing top 5 rows\n",
      "\n"
     ]
    }
   ],
   "source": [
    "dataset = dataset.withColumn(\"only_str\",regexp_replace(col('text'), '\\d+', ''))\n",
    "dataset.show(5)"
   ]
  },
  {
   "cell_type": "markdown",
   "metadata": {},
   "source": [
    "### Séparation des mots du tweet\n",
    "<p>\n",
    "<div style=\"text-align: justify\">\n",
    "Le but de ce prétraitement est d’extraire d’un texte brut les différents mots le composant afin de pouvoir les\n",
    "analyser séparément. Cette étape est un préalable pour de nombreux traitements comme la lemmatisation.\n",
    "nous avons utilisé la fonction Spark <b class=\"keywords\">RegexTokenizer</b> pour cette étape particulière. c'est une bonne option pour le faire.\n",
    "</div>\n",
    "</p>"
   ]
  },
  {
   "cell_type": "code",
   "execution_count": 32,
   "metadata": {
    "scrolled": true
   },
   "outputs": [
    {
     "name": "stdout",
     "output_type": "stream",
     "text": [
      "+---+--------------------+------+--------------------+--------------------+\n",
      "| id|                text|target|            only_str|               words|\n",
      "+---+--------------------+------+--------------------+--------------------+\n",
      "|  1|Our Deeds are the...|     1|Our Deeds are the...|[our, deeds, are,...|\n",
      "|  4|Forest fire near ...|     1|Forest fire near ...|[forest, fire, ne...|\n",
      "|  5|All residents ask...|     1|All residents ask...|[all, residents, ...|\n",
      "|  6|13,000 people rec...|     1|, people receive ...|[people, receive,...|\n",
      "|  7|Just got sent thi...|     1|Just got sent thi...|[just, got, sent,...|\n",
      "+---+--------------------+------+--------------------+--------------------+\n",
      "only showing top 5 rows\n",
      "\n"
     ]
    }
   ],
   "source": [
    "regex_tokenizer = RegexTokenizer(inputCol=\"only_str\", outputCol=\"words\", pattern=\"\\\\W\")\n",
    "raw_words = regex_tokenizer.transform(dataset)\n",
    "raw_words.show(5)"
   ]
  },
  {
   "cell_type": "markdown",
   "metadata": {},
   "source": [
    "### Suppression des mots vides de sens\n",
    "<p>\n",
    "<div style=\"text-align: justify\">\n",
    "Le but de ce prétraitement est de supprimer les mots qui n’ont pas de signification particulière comme des\n",
    "conjonctions (ex : and, are, our, ...) et qui peuvent être ignorés. </p>\n",
    "</p>\n",
    "</div>\n",
    "<p>\n",
    "<div style=\"text-align: justify\">\n",
    "nous avons utilisé la fonction Spark <b class=\"keywords\">StopWordsRemover</b> pour supprimer ces mots vides de sens (stopWords)\n",
    "que les mots apparaissent fréquemment et n'ont pas autant de sens. Spark <b class=\"keywords\">StopWordsRemover</b> prend en entrée une séquence \n",
    "de chaînes. Ensuite, il supprime tous les mots vides des séquences d'entrée.\n",
    "</div>\n",
    "</p>"
   ]
  },
  {
   "cell_type": "code",
   "execution_count": 33,
   "metadata": {},
   "outputs": [
    {
     "name": "stdout",
     "output_type": "stream",
     "text": [
      "+---+--------------------+------+--------------------+\n",
      "| id|               words|target|            filtered|\n",
      "+---+--------------------+------+--------------------+\n",
      "|  1|[our, deeds, are,...|     1|[deeds, reason, e...|\n",
      "|  4|[forest, fire, ne...|     1|[forest, fire, ne...|\n",
      "|  5|[all, residents, ...|     1|[residents, asked...|\n",
      "|  6|[people, receive,...|     1|[people, receive,...|\n",
      "|  7|[just, got, sent,...|     1|[got, sent, photo...|\n",
      "+---+--------------------+------+--------------------+\n",
      "only showing top 5 rows\n",
      "\n"
     ]
    }
   ],
   "source": [
    "remover = StopWordsRemover(inputCol=\"words\", outputCol=\"filtered\")\n",
    "words_df = remover.transform(raw_words)\n",
    "words_df.select(\"id\",\"words\",\"target\",\"filtered\").show(5, truncate=20)"
   ]
  },
  {
   "cell_type": "markdown",
   "metadata": {},
   "source": [
    "### Vectorisation\n",
    "<p>\n",
    "<div style=\"text-align: justify\">\n",
    "La représentation vectorielle des données vise à transformer l’ensemble des textes des tweets sous la forme\n",
    "de vecteurs afin qu’ils puissent être traités par les méthodes de fouille conçues pour des données vectorielles.\n",
    "</div>\n",
    "</p>\n",
    "<p>\n",
    "<div style=\"text-align: justify\">\n",
    "<b class=\"keywords\">CountVectorizer :</b> fonctionnent sur le nombre de mots (jetons). Il utilise des mots dans des documents \n",
    "texte pour créer des vecteurs contenant le nombre de jetons. Il prévoit l'utilisation d'un dictionnaire de mots pour \n",
    "identifier les jetons qui peuventêtre pris en entrée d'algorithmes.\n",
    "CountVectorizer compte les fréquences de mots pour le document, c'est un outil utilisé pour convertir le texte en vecteur.\n",
    "</div>\n",
    "</p>"
   ]
  },
  {
   "cell_type": "code",
   "execution_count": 34,
   "metadata": {},
   "outputs": [
    {
     "name": "stdout",
     "output_type": "stream",
     "text": [
      "+---+--------------------+------+--------------------+--------------------+--------------------+--------------------+-----+\n",
      "| id|                text|target|            only_str|               words|            filtered|            features|label|\n",
      "+---+--------------------+------+--------------------+--------------------+--------------------+--------------------+-----+\n",
      "|  1|Our Deeds are the...|     1|Our Deeds are the...|[our, deeds, are,...|[deeds, reason, e...|(19663,[24,65,148...|    1|\n",
      "|  4|Forest fire near ...|     1|Forest fire near ...|[forest, fire, ne...|[forest, fire, ne...|(19663,[7,100,140...|    1|\n",
      "|  5|All residents ask...|     1|All residents ask...|[all, residents, ...|[residents, asked...|(19663,[156,578,9...|    1|\n",
      "|  6|13,000 people rec...|     1|, people receive ...|[people, receive,...|[people, receive,...|(19663,[11,23,156...|    1|\n",
      "|  7|Just got sent thi...|     1|Just got sent thi...|[just, got, sent,...|[got, sent, photo...|(19663,[32,102,15...|    1|\n",
      "|  8|#RockyFire Update...|     1|#RockyFire Update...|[rockyfire, updat...|[rockyfire, updat...|(19663,[7,23,284,...|    1|\n",
      "| 10|#flood #disaster ...|     1|#flood #disaster ...|[flood, disaster,...|[flood, disaster,...|(19663,[17,121,17...|    1|\n",
      "| 13|I'm on top of the...|     1|I'm on top of the...|[i, m, on, top, o...|[m, top, hill, se...|(19663,[6,7,48,12...|    1|\n",
      "| 14|There's an emerge...|     1|There's an emerge...|[there, s, an, em...|[emergency, evacu...|(19663,[16,156,48...|    1|\n",
      "| 15|I'm afraid that t...|     1|I'm afraid that t...|[i, m, afraid, th...|[m, afraid, torna...|(19663,[6,157,164...|    1|\n",
      "+---+--------------------+------+--------------------+--------------------+--------------------+--------------------+-----+\n",
      "only showing top 10 rows\n",
      "\n"
     ]
    }
   ],
   "source": [
    "cv = CountVectorizer(inputCol=\"filtered\", outputCol=\"features\")\n",
    "model = cv.fit(words_df)\n",
    "countVectorizer_train = model.transform(words_df)\n",
    "countVectorizer_train = countVectorizer_train.withColumn(\"label\",col('target'))\n",
    "countVectorizer_train.show(10)"
   ]
  },
  {
   "cell_type": "code",
   "execution_count": 35,
   "metadata": {},
   "outputs": [
    {
     "name": "stdout",
     "output_type": "stream",
     "text": [
      "+--------------------+--------------------+--------------------+--------------------+------+\n",
      "|                text|               words|            filtered|            features|target|\n",
      "+--------------------+--------------------+--------------------+--------------------+------+\n",
      "|Our Deeds are the...|[our, deeds, are,...|[deeds, reason, e...|(19663,[24,65,148...|     1|\n",
      "|Forest fire near ...|[forest, fire, ne...|[forest, fire, ne...|(19663,[7,100,140...|     1|\n",
      "|All residents ask...|[all, residents, ...|[residents, asked...|(19663,[156,578,9...|     1|\n",
      "|13,000 people rec...|[people, receive,...|[people, receive,...|(19663,[11,23,156...|     1|\n",
      "|Just got sent thi...|[just, got, sent,...|[got, sent, photo...|(19663,[32,102,15...|     1|\n",
      "|#RockyFire Update...|[rockyfire, updat...|[rockyfire, updat...|(19663,[7,23,284,...|     1|\n",
      "|#flood #disaster ...|[flood, disaster,...|[flood, disaster,...|(19663,[17,121,17...|     1|\n",
      "|I'm on top of the...|[i, m, on, top, o...|[m, top, hill, se...|(19663,[6,7,48,12...|     1|\n",
      "|There's an emerge...|[there, s, an, em...|[emergency, evacu...|(19663,[16,156,48...|     1|\n",
      "|I'm afraid that t...|[i, m, afraid, th...|[m, afraid, torna...|(19663,[6,157,164...|     1|\n",
      "|Three people died...|[three, people, d...|[three, people, d...|(19663,[11,183,35...|     1|\n",
      "|Haha South Tampa ...|[haha, south, tam...|[haha, south, tam...|(19663,[119,122,1...|     1|\n",
      "|#raining #floodin...|[raining, floodin...|[raining, floodin...|(19663,[68,172,43...|     1|\n",
      "|#Flood in Bago My...|[flood, in, bago,...|[flood, bago, mya...|(19663,[121,780,1...|     1|\n",
      "|Damage to school ...|[damage, to, scho...|[damage, school, ...|(19663,[25,51,102...|     1|\n",
      "|      What's up man?|  [what, s, up, man]|               [man]|  (19663,[30],[1.0])|     0|\n",
      "|       I love fruits|   [i, love, fruits]|      [love, fruits]|(19663,[52,17939]...|     0|\n",
      "|    Summer is lovely|[summer, is, lovely]|    [summer, lovely]|(19663,[251,1857]...|     0|\n",
      "|   My car is so fast|[my, car, is, so,...|         [car, fast]|(19663,[51,660],[...|     0|\n",
      "|What a goooooooaa...|[what, a, goooooo...|   [goooooooaaaaaal]|(19663,[7685],[1.0])|     0|\n",
      "+--------------------+--------------------+--------------------+--------------------+------+\n",
      "only showing top 20 rows\n",
      "\n"
     ]
    }
   ],
   "source": [
    "countVectorizer_train.select('text','words','filtered','features','target').show()"
   ]
  },
  {
   "cell_type": "markdown",
   "metadata": {},
   "source": [
    "## I.2. Séparation des données en train et validation data\n",
    "<p>\n",
    "<div style=\"text-align: justify\">\n",
    "Cette étape consiste en la création de deux jeux de données qui seront utilisés pour l’entrainement et la\n",
    "mesure de performance des différents modèles sélectionnés. Pour maximiser la performance des modèles\n",
    "prédictifs, nous avons opté pour une séparation aléatoire des tweets avec une proportion de 80% des données\n",
    "réservées à la phase d’entrainement et de 20% des données réservées pour la mesure de performance des\n",
    "modèles.\n",
    "<ul>\n",
    "<li>L'ensemble de données d'entrainement: 80%</li>\n",
    "<li>L'ensemble de données pour le test: 20%</li>\n",
    "</ul>\n",
    "Pour cela <b class=\"keywords\">randomSplit</b> nous permet de diviser de manière transparente les données en ensembles\n",
    "d'entraînement et de test.\n",
    "</div>\n",
    "</p>"
   ]
  },
  {
   "cell_type": "code",
   "execution_count": 36,
   "metadata": {},
   "outputs": [],
   "source": [
    "(train, validate) = countVectorizer_train.randomSplit([0.8, 0.2], seed = 123)"
   ]
  },
  {
   "cell_type": "code",
   "execution_count": 37,
   "metadata": {},
   "outputs": [
    {
     "data": {
      "text/plain": [
       "DataFrame[id: string, text: string, target: int, only_str: string, words: array<string>, filtered: array<string>, features: vector, label: int]"
      ]
     },
     "execution_count": 37,
     "metadata": {},
     "output_type": "execute_result"
    }
   ],
   "source": [
    "train"
   ]
  },
  {
   "cell_type": "code",
   "execution_count": 38,
   "metadata": {},
   "outputs": [
    {
     "data": {
      "text/plain": [
       "DataFrame[id: string, text: string, target: int, only_str: string, words: array<string>, filtered: array<string>, features: vector, label: int]"
      ]
     },
     "execution_count": 38,
     "metadata": {},
     "output_type": "execute_result"
    }
   ],
   "source": [
    "validate"
   ]
  },
  {
   "cell_type": "markdown",
   "metadata": {},
   "source": [
    "# II. Machine Learning: Modèles de prédiction\n",
    "<p>\n",
    "<div style=\"text-align: justify\">\n",
    "Nous avons  préparé notre ensemble de données et les diviser en ensembles d'apprentissage (training) et de test (testing). \n",
    "Il est maintenant temps de choix du modèle d'analyse.<br>\n",
    "Choisir un modèle revient à choisir l’algorithme à utiliser pour construire le modèle. Il existe de nombreux\n",
    "algorithmes d'apprentissage machine et plusieurs d’entre eux seront testés et comparés afin de trouver le\n",
    "meilleur modèle.\n",
    "</div>\n",
    "</p>\n",
    "<p>\n",
    "<div style=\"text-align: justify\">\n",
    "Ces algorithmes peuvent être catégorisés selon le mode d’apprentissage et le type du problème traité :\n",
    "<ul>\n",
    "<li>Apprentissage supervisé (supervised learning)</li>\n",
    "<li>Apprentissage non supervisé (unsupervised learning)</li>\n",
    "<li>Apprentissage par renforcement (reinforcement learning)</li>\n",
    "</ul>\n",
    "</div>\n",
    "</p>\n",
    "<p>\n",
    "<div style=\"text-align: justify\">\n",
    "Pour ce projet, le choix s’est porté sur l’apprentissage supervisé qui est particulièrement bien adapté à la\n",
    "prédiction de résultats en s’aidant d’une base de données déjà étiquetés.\n",
    "</div>    \n",
    "</p>\n",
    "<p>\n",
    "<div style=\"text-align: justify\">\n",
    "On distingue ensuite au niveau de l’apprentissage supervisé deux types d’algorithmes, selon que la variable\n",
    "à prédire est quantitative ou qualitative :\n",
    "<ul>\n",
    "<li>Les algorithmes de régression : Ils sont adaptés aux problèmes pour lesquels le résultat à prédire est une valeur\n",
    "numérique.</li>\n",
    "<li>Les algorithmes de classification : Ils tentent d’affecter une étiquette à une observation faite sur un ensemble de variables.\n",
    "L’ensemble des valeurs possibles pour cette étiquette doit être dénombrable et défini au préalable.</li>\n",
    "</ul>\n",
    "</div>\n",
    "</p>\n",
    "<p>\n",
    "<div style=\"text-align: justify\">\n",
    "Pour ce projet, la variable de sortie est qualitative (tweet concerne une véritable catastrophe, non concerne une véritable catastrophe). nous avons donc choisi \n",
    "de tester des algorithmes de classification parmi ceux qui sont disponibles dans la librairie Spark MLlib afin de bénéficier\n",
    "du passage à l’échelle de Spark. Le choix s’est porté sur les algorithmes suivants qui sont compatibles avec\n",
    "la classification binaire et qui sont décrits brièvement dans la suivante:\n",
    "<ul>\n",
    "<li>Naïves Bayes</li>\n",
    "<li>Régression Logistique</li>\n",
    "<li>Arbres de Décision</li>\n",
    "<li>Forêts Aléatoires (Random Forest)</li>\n",
    "<li>Gradient Boosting</li>\n",
    "<li>SVM Support vector machine</li>\n",
    "</ul>\n",
    "</div>\n",
    "</p>\n",
    "<p>\n",
    "<div style=\"text-align: justify\">\n",
    "Il est rare qu’un seul modèle suffise à produire de bonnes prédictions pour l’ensemble des données.\n",
    "Nous avons donc testé la combinaison de plusieurs modèles qui permet souvent d’améliorer la performance\n",
    "globale de prédiction des modèles sous-jacents.\n",
    "</div>\n",
    "</p>"
   ]
  },
  {
   "cell_type": "markdown",
   "metadata": {},
   "source": [
    "## II.1 Les grandes étapes pour chacun algorithmes:"
   ]
  },
  {
   "cell_type": "markdown",
   "metadata": {},
   "source": [
    "### Entrainement des modèles\n",
    "<p>\n",
    "<div style=\"text-align: justify\">\n",
    "Cette étape a pour objectif d’appliquer un modèle d’apprentissage aux données d’entrainement selon le\n",
    "processus suivant :\n",
    "<ul>\n",
    "<li>Définition d’un pipeline pour le modèle concerné: Spark permet de définir des pipelines qui sont des flux de travail \n",
    "qui enchaînent différentes étapes de traitement des données se trouvant dans des DataFrames. </li>\n",
    "<li>Définition des hyperparamètres du modèle: Chaque algorithme d’apprentissage comporte un certain nombre de paramètres \n",
    "qui permettent d’optimiser la performance du modèle sélectionné.</li>\n",
    "<li>Entrainement et optimisation du modèle: L’apprentissage du modèle sur le jeu de données d’entrainement s’effectue par \n",
    "    la fonction Spark fit avec en paramètres le jeu de données concerné.</li>\n",
    "</ul>\n",
    "</div>\n",
    "</p>"
   ]
  },
  {
   "cell_type": "markdown",
   "metadata": {},
   "source": [
    "### Prédictions et évaluations des Résultats\n",
    "<p>Cette étape consiste à évaluer chacun des modèles sur les même données de validation afin de trouver le\n",
    "modèle ayant les meilleures performances pour la prédiction si un tweet donné concerne une véritable catastrophe ou non.</p>\n",
    "<p><b class=\"keywords\">Prédiction des modèles:</b>\n",
    "Une fois qu’un modèle est entrainé, il est possible d’appliquer ce modèle sur de nouvelles données en utilisant\n",
    "la fonction Spark <b class=\"keywords\">transform</b>. Les prédictions obtenues sur le jeu de validation permettent de mesurer la\n",
    "performance de généralisation de chacun des modèles.\n",
    "</p>\n",
    "\n",
    "<p>\n",
    "<b class=\"keywords\">Evaluation des modèles:</b> L’évaluation d’un modèle consiste à mesurer les écarts entre les prédictions du modèle et les résultats\n",
    "attendus. Spark propose les mesures suivantes pour les algorithmes de classification:<b class=\"keywords\"> Precision - Recall - Accuracy </b>\n",
    "</p>\n",
    "\n",
    "<p>\n",
    "<b class=\"keywords\">Ce qui nous importe, c'est l'accuracy par ce qu'est une mesure qui représente le\n",
    "pourcentage de prédictions correctes de l’algorithme.</b>\n",
    "</p>"
   ]
  },
  {
   "cell_type": "markdown",
   "metadata": {},
   "source": [
    "### II.1.1.  Naïves Bayes"
   ]
  },
  {
   "cell_type": "markdown",
   "metadata": {},
   "source": [
    "**Entrainement de modèle**"
   ]
  },
  {
   "cell_type": "code",
   "execution_count": 39,
   "metadata": {},
   "outputs": [],
   "source": [
    "from pyspark.ml.classification import NaiveBayes\n",
    "\n",
    "nb = NaiveBayes(modelType=\"multinomial\", labelCol=\"target\", featuresCol=\"features\")\n",
    "nbModel = nb.fit(train)"
   ]
  },
  {
   "cell_type": "markdown",
   "metadata": {},
   "source": [
    "**Prédiction et évaluation de Résultat**"
   ]
  },
  {
   "cell_type": "code",
   "execution_count": 44,
   "metadata": {},
   "outputs": [
    {
     "name": "stdout",
     "output_type": "stream",
     "text": [
      "Accuracy of NaiveBayes is = 0.796832\n"
     ]
    }
   ],
   "source": [
    "nbPreds = nbModel.transform(validate)\n",
    "evaluator = MulticlassClassificationEvaluator(labelCol=\"target\", predictionCol=\"prediction\", metricName=\"accuracy\")\n",
    "nb_accuracy = evaluator.evaluate(nbPreds)\n",
    "print(\"Accuracy of NaiveBayes is = %g\"% (nb_accuracy))"
   ]
  },
  {
   "cell_type": "code",
   "execution_count": 45,
   "metadata": {},
   "outputs": [
    {
     "name": "stdout",
     "output_type": "stream",
     "text": [
      "+-----+--------------------+------+--------------------+--------------------+--------------------+--------------------+-----+--------------------+--------------------+----------+\n",
      "|   id|                text|target|            only_str|               words|            filtered|            features|label|       rawPrediction|         probability|prediction|\n",
      "+-----+--------------------+------+--------------------+--------------------+--------------------+--------------------+-----+--------------------+--------------------+----------+\n",
      "|  100|http://t.co/GKYe6...|     0|http://t.co/GKYeg...|[http, t, co, gky...|[http, co, gkyegj...|(19663,[0,1,5,48,...|    0|[-104.57791354425...|[0.89216727127805...|       0.0|\n",
      "|10004|@GreenLacey GodsL...|     0|@GreenLacey GodsL...|[greenlacey, gods...|[greenlacey, gods...|(19663,[0,1,5,8,1...|    0|[-136.13100590483...|[0.00793554609896...|       1.0|\n",
      "|10010|Want Twister Tick...|     0|Want Twister Tick...|[want, twister, t...|[want, twister, t...|(19663,[0,1,48,80...|    0|[-97.789272084675...|[0.99923920733793...|       0.0|\n",
      "|10011|Just stop fucking...|     0|Just stop fucking...|[just, stop, fuck...|[stop, fucking, s...|(19663,[145,210,2...|    0|[-118.03811965307...|[0.99999280468037...|       0.0|\n",
      "|10018|Twister was fun h...|     0|Twister was fun h...|[twister, was, fu...|[twister, fun, ht...|(19663,[0,2,296,5...|    0|[-36.242376763723...|[0.97720666935714...|       0.0|\n",
      "|10025|Last Second OutBi...|     0|Last Second OutBi...|[last, second, ou...|[last, second, ou...|(19663,[0,1,5,37,...|    0|[-166.82239040590...|[0.97522917039350...|       0.0|\n",
      "|10034|Crazy Mom Threw T...|     1|Crazy Mom Threw T...|[crazy, mom, thre...|[crazy, mom, thre...|(19663,[0,1,74,29...|    1|[-141.08134234383...|[0.99993645933592...|       0.0|\n",
      "|10035|@briannafrost Twi...|     0|@briannafrost Twi...|[briannafrost, tw...|[briannafrost, tw...|(19663,[296,1490,...|    0|[-60.658220024607...|[0.82225846835955...|       0.0|\n",
      "|10039|I liked a @YouTub...|     0|I liked a @YouTub...|[i, liked, a, you...|[liked, youtube, ...|(19663,[0,1,15,46...|    0|[-66.502984287102...|[0.99488500584475...|       0.0|\n",
      "| 1004|I'm crazy enough ...|     0|I'm crazy enough ...|[i, m, crazy, eno...|[m, crazy, enough...|(19663,[0,2,3,6,2...|    0|[-124.38918670440...|[0.96819251102722...|       0.0|\n",
      "|10040|Tornadoes: El Nin...|     1|Tornadoes: El Nin...|[tornadoes, el, n...|[tornadoes, el, n...|(19663,[0,1,65,29...|    1|[-113.33230496864...|[0.43673104479557...|       1.0|\n",
      "|10044|White Twister Bla...|     0|White Twister Bla...|[white, twister, ...|[white, twister, ...|(19663,[0,1,94,29...|    0|[-110.00437894125...|[0.85516660770735...|       0.0|\n",
      "|10047|@rodarmer21 10 do...|     0|@rodarmer  dolla ...|[rodarmer, dolla,...|[rodarmer, dolla,...|(19663,[204,296,5...|    0|[-65.414810743057...|[0.94549981308383...|       0.0|\n",
      "|10055|Some curls come o...|     0|Some curls come o...|[some, curls, com...|[curls, come, pre...|(19663,[4,89,147,...|    0|[-76.134026815614...|[0.97999904401174...|       0.0|\n",
      "|10064|Obama Declares Di...|     1|Obama Declares Di...|[obama, declares,...|[obama, declares,...|(19663,[0,1,17,10...|    1|[-134.41880626368...|[1.12220405382535...|       1.0|\n",
      "|10072|Typhoon Soudelor:...|     1|Typhoon Soudelor:...|[typhoon, soudelo...|[typhoon, soudelo...|(19663,[0,1,125,1...|    1|[-76.103289300882...|[2.13954587694844...|       1.0|\n",
      "|10089|Photos: Typhoon S...|     1|Photos: Typhoon S...|[photos, typhoon,...|[photos, typhoon,...|(19663,[0,1,125,1...|    1|[-84.112947208947...|[9.45111421194681...|       1.0|\n",
      "|10091|Massive Typhoon h...|     1|Massive Typhoon h...|[massive, typhoon...|[massive, typhoon...|(19663,[0,1,125,1...|    1|[-69.466143614421...|[0.00154460706964...|       1.0|\n",
      "| 1010|@OfficialTJonez Y...|     0|@OfficialTJonez Y...|[officialtjonez, ...|[officialtjonez, ...|(19663,[8,52,200,...|    0|[-145.46357493250...|[0.99999814267531...|       0.0|\n",
      "|10113|A look at state a...|     0|A look at state a...|[a, look, at, sta...|[look, state, act...|(19663,[0,1,47,89...|    0|[-68.834468729659...|[0.62511802227351...|       0.0|\n",
      "+-----+--------------------+------+--------------------+--------------------+--------------------+--------------------+-----+--------------------+--------------------+----------+\n",
      "only showing top 20 rows\n",
      "\n"
     ]
    }
   ],
   "source": [
    "nbPreds.show()"
   ]
  },
  {
   "cell_type": "markdown",
   "metadata": {},
   "source": [
    "### II.1.2. Régression Logistique"
   ]
  },
  {
   "cell_type": "markdown",
   "metadata": {},
   "source": [
    "**Entrainement de modèle**"
   ]
  },
  {
   "cell_type": "code",
   "execution_count": 46,
   "metadata": {},
   "outputs": [],
   "source": [
    "from pyspark.ml.classification import LogisticRegression\n",
    "\n",
    "lr = LogisticRegression(featuresCol = 'features', labelCol = 'target', maxIter=10)\n",
    "lrModel = lr.fit(train)"
   ]
  },
  {
   "cell_type": "markdown",
   "metadata": {},
   "source": [
    "**Prédiction et évaluation de Résultat**"
   ]
  },
  {
   "cell_type": "code",
   "execution_count": 47,
   "metadata": {},
   "outputs": [
    {
     "name": "stdout",
     "output_type": "stream",
     "text": [
      "Accuracy of Logistic Regression is = 0.782369\n"
     ]
    }
   ],
   "source": [
    "lrPreds = lrModel.transform(validate)\n",
    "evaluator = MulticlassClassificationEvaluator(labelCol=\"target\", predictionCol=\"prediction\", metricName=\"accuracy\")\n",
    "lr_accuracy = evaluator.evaluate(lrPreds)\n",
    "print(\"Accuracy of Logistic Regression is = %g\"% (lr_accuracy))"
   ]
  },
  {
   "cell_type": "markdown",
   "metadata": {},
   "source": [
    "### II.1.3. Arbres de Décision"
   ]
  },
  {
   "cell_type": "markdown",
   "metadata": {},
   "source": [
    "**Entrainement de modèle**"
   ]
  },
  {
   "cell_type": "code",
   "execution_count": 48,
   "metadata": {},
   "outputs": [],
   "source": [
    "from pyspark.ml.classification import DecisionTreeClassifier\n",
    "\n",
    "dt = DecisionTreeClassifier(featuresCol = 'features', labelCol = 'target', maxDepth = 3)\n",
    "dtModel = dt.fit(train)"
   ]
  },
  {
   "cell_type": "markdown",
   "metadata": {},
   "source": [
    "**Prédiction et évaluation de Résultat**"
   ]
  },
  {
   "cell_type": "code",
   "execution_count": 49,
   "metadata": {},
   "outputs": [
    {
     "name": "stdout",
     "output_type": "stream",
     "text": [
      "Accuracy of Decision Trees is = 0.652204\n"
     ]
    }
   ],
   "source": [
    "dtPreds = dtModel.transform(validate)\n",
    "evaluator = MulticlassClassificationEvaluator(labelCol=\"target\", predictionCol=\"prediction\", metricName=\"accuracy\")\n",
    "dt_accuracy = evaluator.evaluate(dtPreds)\n",
    "print(\"Accuracy of Decision Trees is = %g\"% (dt_accuracy))"
   ]
  },
  {
   "cell_type": "markdown",
   "metadata": {},
   "source": [
    "### II.1.4. Forêts Aléatoires (Random Forest)"
   ]
  },
  {
   "cell_type": "markdown",
   "metadata": {},
   "source": [
    "**Entrainement de modèle**"
   ]
  },
  {
   "cell_type": "code",
   "execution_count": 50,
   "metadata": {},
   "outputs": [],
   "source": [
    "from pyspark.ml.classification import RandomForestClassifier\n",
    "\n",
    "rf = RandomForestClassifier(featuresCol = 'features', labelCol = 'target')\n",
    "rfModel = rf.fit(train)"
   ]
  },
  {
   "cell_type": "markdown",
   "metadata": {},
   "source": [
    "**Prédiction et évaluation de Résultat**"
   ]
  },
  {
   "cell_type": "code",
   "execution_count": 51,
   "metadata": {},
   "outputs": [
    {
     "name": "stdout",
     "output_type": "stream",
     "text": [
      "Accuracy of Random Forests is = 0.597796\n"
     ]
    }
   ],
   "source": [
    "rfPreds = rfModel.transform(validate)\n",
    "evaluator = MulticlassClassificationEvaluator(labelCol=\"target\", predictionCol=\"prediction\", metricName=\"accuracy\")\n",
    "rf_accuracy = evaluator.evaluate(rfPreds)\n",
    "print(\"Accuracy of Random Forests is = %g\"% (rf_accuracy))"
   ]
  },
  {
   "cell_type": "markdown",
   "metadata": {},
   "source": [
    "### II.1.5. Gradient Boosting"
   ]
  },
  {
   "cell_type": "markdown",
   "metadata": {},
   "source": [
    "**Entrainement de modèle**"
   ]
  },
  {
   "cell_type": "code",
   "execution_count": 52,
   "metadata": {},
   "outputs": [],
   "source": [
    "from pyspark.ml.classification import GBTClassifier\n",
    "\n",
    "gbt = GBTClassifier(maxIter=10)\n",
    "gbtModel = gbt.fit(train)"
   ]
  },
  {
   "cell_type": "markdown",
   "metadata": {},
   "source": [
    "**Prédiction et évaluation de Résultat**"
   ]
  },
  {
   "cell_type": "code",
   "execution_count": 53,
   "metadata": {},
   "outputs": [
    {
     "name": "stdout",
     "output_type": "stream",
     "text": [
      "Accuracy of GBT is = 0.674931\n"
     ]
    }
   ],
   "source": [
    "gbtPreds = gbtModel.transform(validate)\n",
    "evaluator = MulticlassClassificationEvaluator(labelCol=\"target\", predictionCol=\"prediction\", metricName=\"accuracy\")\n",
    "gb_accuracy = evaluator.evaluate(gbtPreds)\n",
    "print(\"Accuracy of GBT is = %g\"% (gb_accuracy))"
   ]
  },
  {
   "cell_type": "markdown",
   "metadata": {},
   "source": [
    "### II.1.6. SVM Support vector machine"
   ]
  },
  {
   "cell_type": "markdown",
   "metadata": {},
   "source": [
    "**Entrainement de modèle**"
   ]
  },
  {
   "cell_type": "code",
   "execution_count": 55,
   "metadata": {},
   "outputs": [],
   "source": [
    "from pyspark.ml.classification import LinearSVC\n",
    "\n",
    "svm = LinearSVC(maxIter=10, regParam=0.1, featuresCol = 'features', labelCol = 'target')\n",
    "svmModel = rf.fit(train)"
   ]
  },
  {
   "cell_type": "markdown",
   "metadata": {},
   "source": [
    "**Prédiction et évaluation de Résultat**"
   ]
  },
  {
   "cell_type": "code",
   "execution_count": 56,
   "metadata": {},
   "outputs": [
    {
     "name": "stdout",
     "output_type": "stream",
     "text": [
      "Accuracy of SVM is = 0.597796\n"
     ]
    }
   ],
   "source": [
    "svmPreds = rfModel.transform(validate)\n",
    "evaluator = MulticlassClassificationEvaluator(labelCol=\"target\", predictionCol=\"prediction\", metricName=\"accuracy\")\n",
    "svm_accuracy = evaluator.evaluate(svmPreds)\n",
    "print(\"Accuracy of SVM is = %g\"% (svm_accuracy))"
   ]
  },
  {
   "cell_type": "markdown",
   "metadata": {},
   "source": [
    "# Comparaison de la performance des modèles"
   ]
  },
  {
   "cell_type": "code",
   "execution_count": 59,
   "metadata": {},
   "outputs": [
    {
     "data": {
      "text/plain": [
       "Text(0.5, 1.0, 'Accuracy of Models')"
      ]
     },
     "execution_count": 59,
     "metadata": {},
     "output_type": "execute_result"
    },
    {
     "data": {
      "image/png": "[encoded data removed]",
      "text/plain": [
       "<Figure size 1008x648 with 1 Axes>"
      ]
     },
     "metadata": {
      "needs_background": "light"
     },
     "output_type": "display_data"
    }
   ],
   "source": [
    "import numpy as np\n",
    "import matplotlib.pyplot as plt\n",
    "from matplotlib.cm import rainbow\n",
    "\n",
    "Models = ['Naïves Bayes','Régression Logistique','Arbres de Décision','Random Forest','Gradient Boosting','SVM']\n",
    "Accuracy = [nb_accuracy*100,lr_accuracy*100,dt_accuracy*100,rf_accuracy*100,gb_accuracy*100,svm_accuracy*100]\n",
    "\n",
    "colors = rainbow(np.linspace(0, 1, len(Models)))\n",
    "\n",
    "plt.figure(figsize=(14,9))\n",
    "plt.bar(Models, Accuracy, color = colors)\n",
    "for i in range(len(Models)):\n",
    "    plt.text(i, Accuracy[i], \"{:.2f}%\".format(Accuracy[i]), ha='center', va='bottom' ,size=12)\n",
    "plt.ylim([0,100])\n",
    "plt.xlabel('Models')\n",
    "plt.ylabel('Accuracy %')\n",
    "plt.title('Accuracy of Models')"
   ]
  },
  {
   "cell_type": "markdown",
   "metadata": {},
   "source": [
    "# Conclusion\n",
    "<H3>\n",
    "<p>\n",
    "<div style=\"text-align: justify\">\n",
    "<ul>\n",
    "<li>Le meilleur modèle est basé sur Naïves Bayes. Ce modèle obtient en effet le\n",
    "meilleur taux de classification pour les données de validation avec plus de 79% de bonnes prédictions.</li><br>\n",
    "<li>Le pire modèle est basé sur Random Forest et SVM. Ce résultat montre les capacités relativement\n",
    "faibles de prédiction de ce type d’algorithme.</li><br>\n",
    "<li>Le meilleur modèle pour ce projet est celui dont les prévisions sont les plus proches des résultats attendus et\n",
    "qui permet le passage à l’échelle: Naïves Bayes et Régression Logistique sont des bonnes options pour ce projet.</li><br>\n",
    "<li>Mais nous pouvons combiner les meilleurs modèles trouvés dans l'étape précédente afin d'améliorer la\n",
    "performance globale de prédiction de ces modèles.</li><br>\n",
    "</ul>\n",
    "</div>\n",
    "</p>\n",
    "</H3>"
   ]
  }
 ],
 "metadata": {
  "kernelspec": {
   "display_name": "Python 3 (ipykernel)",
   "language": "python",
   "name": "python3"
  },
  "language_info": {
   "codemirror_mode": {
    "name": "ipython",
    "version": 3
   },
   "file_extension": ".py",
   "mimetype": "text/x-python",
   "name": "python",
   "nbconvert_exporter": "python",
   "pygments_lexer": "ipython3",
   "version": "3.8.13"
  }
 },
 "nbformat": 4,
 "nbformat_minor": 1
}
